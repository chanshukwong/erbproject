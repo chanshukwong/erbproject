{
 "cells": [
  {
   "cell_type": "code",
   "execution_count": 131,
   "id": "33c2125f-fb4b-421a-ab42-36fd7af1e173",
   "metadata": {},
   "outputs": [],
   "source": [
    "import pandas as pd\n",
    "import numpy as np"
   ]
  },
  {
   "cell_type": "code",
   "execution_count": 127,
   "id": "9dac6047-9905-41aa-8d2f-41ce151ec573",
   "metadata": {},
   "outputs": [
    {
     "data": {
      "text/html": [
       "<div>\n",
       "<style scoped>\n",
       "    .dataframe tbody tr th:only-of-type {\n",
       "        vertical-align: middle;\n",
       "    }\n",
       "\n",
       "    .dataframe tbody tr th {\n",
       "        vertical-align: top;\n",
       "    }\n",
       "\n",
       "    .dataframe thead th {\n",
       "        text-align: right;\n",
       "    }\n",
       "</style>\n",
       "<table border=\"1\" class=\"dataframe\">\n",
       "  <thead>\n",
       "    <tr style=\"text-align: right;\">\n",
       "      <th></th>\n",
       "      <th>AAA</th>\n",
       "      <th>BBB</th>\n",
       "      <th>CCC</th>\n",
       "    </tr>\n",
       "  </thead>\n",
       "  <tbody>\n",
       "    <tr>\n",
       "      <th>0</th>\n",
       "      <td>1</td>\n",
       "      <td>1</td>\n",
       "      <td>2</td>\n",
       "    </tr>\n",
       "    <tr>\n",
       "      <th>1</th>\n",
       "      <td>2</td>\n",
       "      <td>1</td>\n",
       "      <td>1</td>\n",
       "    </tr>\n",
       "    <tr>\n",
       "      <th>2</th>\n",
       "      <td>1</td>\n",
       "      <td>2</td>\n",
       "      <td>3</td>\n",
       "    </tr>\n",
       "    <tr>\n",
       "      <th>3</th>\n",
       "      <td>3</td>\n",
       "      <td>2</td>\n",
       "      <td>1</td>\n",
       "    </tr>\n",
       "  </tbody>\n",
       "</table>\n",
       "</div>"
      ],
      "text/plain": [
       "   AAA  BBB  CCC\n",
       "0    1    1    2\n",
       "1    2    1    1\n",
       "2    1    2    3\n",
       "3    3    2    1"
      ]
     },
     "execution_count": 127,
     "metadata": {},
     "output_type": "execute_result"
    }
   ],
   "source": [
    "df = pd.DataFrame({\"AAA\": [1, 2, 1, 3], \"BBB\": [1, 1, 2, 2], \"CCC\": [2, 1, 3, 1]})\n",
    "\n",
    "df"
   ]
  },
  {
   "cell_type": "code",
   "execution_count": 128,
   "id": "a3f77771-b35d-44ab-997e-20420cf11e00",
   "metadata": {},
   "outputs": [],
   "source": [
    "df[[x+'cat' for x in df.columns]]=df[df.columns].map({1: \"Alpha\", 2: \"Beta\", 3: \"Charlie\"}.get)"
   ]
  },
  {
   "cell_type": "code",
   "execution_count": 129,
   "id": "e1715fca-dcfa-410c-92e4-3fe43422cd4d",
   "metadata": {},
   "outputs": [
    {
     "data": {
      "text/html": [
       "<div>\n",
       "<style scoped>\n",
       "    .dataframe tbody tr th:only-of-type {\n",
       "        vertical-align: middle;\n",
       "    }\n",
       "\n",
       "    .dataframe tbody tr th {\n",
       "        vertical-align: top;\n",
       "    }\n",
       "\n",
       "    .dataframe thead th {\n",
       "        text-align: right;\n",
       "    }\n",
       "</style>\n",
       "<table border=\"1\" class=\"dataframe\">\n",
       "  <thead>\n",
       "    <tr style=\"text-align: right;\">\n",
       "      <th></th>\n",
       "      <th>AAA</th>\n",
       "      <th>BBB</th>\n",
       "      <th>CCC</th>\n",
       "      <th>AAAcat</th>\n",
       "      <th>BBBcat</th>\n",
       "      <th>CCCcat</th>\n",
       "    </tr>\n",
       "  </thead>\n",
       "  <tbody>\n",
       "    <tr>\n",
       "      <th>0</th>\n",
       "      <td>1</td>\n",
       "      <td>1</td>\n",
       "      <td>2</td>\n",
       "      <td>Alpha</td>\n",
       "      <td>Alpha</td>\n",
       "      <td>Beta</td>\n",
       "    </tr>\n",
       "    <tr>\n",
       "      <th>1</th>\n",
       "      <td>2</td>\n",
       "      <td>1</td>\n",
       "      <td>1</td>\n",
       "      <td>Beta</td>\n",
       "      <td>Alpha</td>\n",
       "      <td>Alpha</td>\n",
       "    </tr>\n",
       "    <tr>\n",
       "      <th>2</th>\n",
       "      <td>1</td>\n",
       "      <td>2</td>\n",
       "      <td>3</td>\n",
       "      <td>Alpha</td>\n",
       "      <td>Beta</td>\n",
       "      <td>Charlie</td>\n",
       "    </tr>\n",
       "    <tr>\n",
       "      <th>3</th>\n",
       "      <td>3</td>\n",
       "      <td>2</td>\n",
       "      <td>1</td>\n",
       "      <td>Charlie</td>\n",
       "      <td>Beta</td>\n",
       "      <td>Alpha</td>\n",
       "    </tr>\n",
       "  </tbody>\n",
       "</table>\n",
       "</div>"
      ],
      "text/plain": [
       "   AAA  BBB  CCC   AAAcat BBBcat   CCCcat\n",
       "0    1    1    2    Alpha  Alpha     Beta\n",
       "1    2    1    1     Beta  Alpha    Alpha\n",
       "2    1    2    3    Alpha   Beta  Charlie\n",
       "3    3    2    1  Charlie   Beta    Alpha"
      ]
     },
     "execution_count": 129,
     "metadata": {},
     "output_type": "execute_result"
    }
   ],
   "source": [
    "df"
   ]
  },
  {
   "cell_type": "code",
   "execution_count": 214,
   "id": "ce0ea8a5-b17b-4f83-a171-80bd8ae37f38",
   "metadata": {},
   "outputs": [
    {
     "name": "stdout",
     "output_type": "stream",
     "text": [
      "                  0\n",
      "count  10000.000000\n",
      "mean       5.003626\n",
      "std        1.005237\n",
      "min        1.406314\n",
      "25%        4.325310\n",
      "50%        5.008482\n",
      "75%        5.676392\n",
      "max        8.881882\n",
      "median:0    5.008482\n",
      "dtype: float64\n",
      "--------------------------------------------------\n",
      "After log\n",
      "                  0\n",
      "count  10000.000000\n",
      "mean       1.588613\n",
      "std        0.212488\n",
      "min        0.340972\n",
      "25%        1.464484\n",
      "50%        1.611133\n",
      "75%        1.736316\n",
      "max        2.184013\n",
      "median:0    1.611133\n",
      "dtype: float64\n",
      "--------------------------------------------------\n",
      "After exp\n",
      "              0\n",
      "count       inf\n",
      "mean   4.896954\n",
      "std    1.236752\n",
      "min    1.406314\n",
      "25%    4.325310\n",
      "50%    5.008482\n",
      "75%    5.676392\n",
      "max    8.881882\n",
      "exp(median) = 0    5.008482\n",
      "dtype: float64\n",
      "stderr = 0    0.002125\n",
      "dtype: float64\n",
      "--------------------------------------------------\n"
     ]
    },
    {
     "name": "stderr",
     "output_type": "stream",
     "text": [
      "/Users/user/opt/miniconda3/envs/py3.11/lib/python3.11/site-packages/pandas/core/internals/blocks.py:393: RuntimeWarning: overflow encountered in exp\n",
      "  result = func(self.values, **kwargs)\n"
     ]
    },
    {
     "data": {
      "image/png": "[encoded data removed]",
      "text/plain": [
       "<Figure size 640x480 with 1 Axes>"
      ]
     },
     "metadata": {},
     "output_type": "display_data"
    },
    {
     "data": {
      "image/png": "[encoded data removed]",
      "text/plain": [
       "<Figure size 640x480 with 1 Axes>"
      ]
     },
     "metadata": {},
     "output_type": "display_data"
    }
   ],
   "source": [
    "import matplotlib.pyplot as plt\n",
    "\n",
    "sample_size = 10000\n",
    "x = np.random.randn(sample_size)+5\n",
    "df = pd.DataFrame(x)\n",
    "print(df.describe())\n",
    "print(f'median:{df.median()}')\n",
    "\n",
    "print('-'*50)\n",
    "print('After log')\n",
    "lx = np.log(x)\n",
    "df2 = pd.DataFrame(lx)\n",
    "print(df2.describe())\n",
    "print(f'median:{df2.median()}')\n",
    "\n",
    "print('-'*50)\n",
    "print('After exp')\n",
    "print(np.exp(df2.describe()))\n",
    "print(f'exp(median) = {np.exp(df2.median())}')\n",
    "print(f'stderr = {df2.std()/100}')\n",
    "print('-'*50)\n",
    "\n",
    "pdf, bins, patches = plt.hist(x, bins=20, range=(1, 9), density=True)\n",
    "plt.title('randn: normal')\n",
    "plt.show()\n",
    "\n",
    "pdf, bins, patches = plt.hist(lx, bins=20, range=(1, 9), density=True)\n",
    "plt.title('randn: normal')\n",
    "plt.show()\n",
    "\n",
    "\n",
    "\n",
    "# lognormal = np.log(normal)\n",
    "# slog = pd.Series(lognormal)\n",
    "\n",
    "# pdf, bins, patches = plt.hist(normal, bins=20, range=(-4, 4), density=True)\n",
    "# plt.title('randn: normal')\n",
    "# plt.show()\n",
    "\n",
    "\n",
    "# normallog = np.log(normal)\n",
    "# pdf, bins, patches = plt.hist(normal, bins=20, range=(-4, 4), density=True)\n",
    "# plt.title('randn: normal')\n",
    "# plt.show()\n",
    "\n"
   ]
  },
  {
   "cell_type": "code",
   "execution_count": 215,
   "id": "14f3e627-d3a7-4bdc-9711-f037e5a461e0",
   "metadata": {},
   "outputs": [
    {
     "data": {
      "text/plain": [
       "np.float64(8.881882075474458)"
      ]
     },
     "execution_count": 215,
     "metadata": {},
     "output_type": "execute_result"
    }
   ],
   "source": [
    "x.max()"
   ]
  },
  {
   "cell_type": "code",
   "execution_count": 216,
   "id": "4a17a434-995e-4a56-9e1f-95605ffc22cd",
   "metadata": {},
   "outputs": [
    {
     "data": {
      "text/plain": [
       "np.float64(1.4063143061301058)"
      ]
     },
     "execution_count": 216,
     "metadata": {},
     "output_type": "execute_result"
    }
   ],
   "source": [
    "x.min()"
   ]
  },
  {
   "cell_type": "code",
   "execution_count": null,
   "id": "bde7438c-21c2-47a0-b333-8f8b27957fa3",
   "metadata": {},
   "outputs": [],
   "source": []
  }
 ],
 "metadata": {
  "kernelspec": {
   "display_name": "Python 3 (ipykernel)",
   "language": "python",
   "name": "python3"
  },
  "language_info": {
   "codemirror_mode": {
    "name": "ipython",
    "version": 3
   },
   "file_extension": ".py",
   "mimetype": "text/x-python",
   "name": "python",
   "nbconvert_exporter": "python",
   "pygments_lexer": "ipython3",
   "version": "3.11.10"
  }
 },
 "nbformat": 4,
 "nbformat_minor": 5
}
